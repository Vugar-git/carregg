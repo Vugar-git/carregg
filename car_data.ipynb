{
 "cells": [
  {
   "cell_type": "code",
   "execution_count": 1,
   "id": "6d832fcc-059e-4362-b3e2-71c0930780a9",
   "metadata": {},
   "outputs": [],
   "source": [
    "import pandas as pd"
   ]
  },
  {
   "cell_type": "code",
   "execution_count": 2,
   "id": "b9902f2f-5ec3-479d-aefb-29c25b7fc62e",
   "metadata": {},
   "outputs": [],
   "source": [
    "df = pd.read_csv(r\"C:\\Users\\Victor\\Desktop\\intern_car_regg.csv\")"
   ]
  },
  {
   "cell_type": "code",
   "execution_count": 3,
   "id": "3fc30845-8a77-4708-81bb-cc6ed078f63a",
   "metadata": {},
   "outputs": [
    {
     "name": "stdout",
     "output_type": "stream",
     "text": [
      "<class 'pandas.core.frame.DataFrame'>\n",
      "RangeIndex: 10000 entries, 0 to 9999\n",
      "Data columns (total 23 columns):\n",
      " #   Column                    Non-Null Count  Dtype \n",
      "---  ------                    --------------  ----- \n",
      " 0   Avtosalon                 10000 non-null  int64 \n",
      " 1   Qiymet                    10000 non-null  int64 \n",
      " 2   Valyuta                   10000 non-null  object\n",
      " 3   Şəhər                     10000 non-null  object\n",
      " 4   Marka                     10000 non-null  object\n",
      " 5   Model                     10000 non-null  object\n",
      " 6   Buraxılış ili             10000 non-null  int64 \n",
      " 7   Ban növü                  10000 non-null  object\n",
      " 8   Rəng                      10000 non-null  object\n",
      " 9   Mühərrik                  10000 non-null  object\n",
      " 10  Yürüş                     10000 non-null  object\n",
      " 11  Sürətlər qutusu           10000 non-null  object\n",
      " 12  Ötürücü                   10000 non-null  object\n",
      " 13  Yeni                      10000 non-null  object\n",
      " 14  Vəziyyəti                 9972 non-null   object\n",
      " 15  Yeniləndi                 10000 non-null  object\n",
      " 16  Baxışların sayı           10000 non-null  int64 \n",
      " 17  Extra                     9236 non-null   object\n",
      " 18  Etrafli                   9718 non-null   object\n",
      " 19  Sahiblər                  6193 non-null   object\n",
      " 20  Hansı bazar üçün yığılıb  6702 non-null   object\n",
      " 21  Yerlərin sayı             6832 non-null   object\n",
      " 22  Qəzalı                    32 non-null     object\n",
      "dtypes: int64(4), object(19)\n",
      "memory usage: 1.8+ MB\n"
     ]
    }
   ],
   "source": [
    "df.info()"
   ]
  },
  {
   "cell_type": "code",
   "execution_count": 4,
   "id": "242ea7e2-96cb-4769-8c6e-91138f185c1a",
   "metadata": {},
   "outputs": [],
   "source": [
    "pd.set_option('display.max_columns', None)"
   ]
  },
  {
   "cell_type": "code",
   "execution_count": 5,
   "id": "e3994406-3a16-44c6-9275-f949c70a05c8",
   "metadata": {},
   "outputs": [
    {
     "data": {
      "text/html": [
       "<div>\n",
       "<style scoped>\n",
       "    .dataframe tbody tr th:only-of-type {\n",
       "        vertical-align: middle;\n",
       "    }\n",
       "\n",
       "    .dataframe tbody tr th {\n",
       "        vertical-align: top;\n",
       "    }\n",
       "\n",
       "    .dataframe thead th {\n",
       "        text-align: right;\n",
       "    }\n",
       "</style>\n",
       "<table border=\"1\" class=\"dataframe\">\n",
       "  <thead>\n",
       "    <tr style=\"text-align: right;\">\n",
       "      <th></th>\n",
       "      <th>Avtosalon</th>\n",
       "      <th>Qiymet</th>\n",
       "      <th>Valyuta</th>\n",
       "      <th>Şəhər</th>\n",
       "      <th>Marka</th>\n",
       "      <th>Model</th>\n",
       "      <th>Buraxılış ili</th>\n",
       "      <th>Ban növü</th>\n",
       "      <th>Rəng</th>\n",
       "      <th>Mühərrik</th>\n",
       "      <th>Yürüş</th>\n",
       "      <th>Sürətlər qutusu</th>\n",
       "      <th>Ötürücü</th>\n",
       "      <th>Yeni</th>\n",
       "      <th>Vəziyyəti</th>\n",
       "      <th>Yeniləndi</th>\n",
       "      <th>Baxışların sayı</th>\n",
       "      <th>Extra</th>\n",
       "      <th>Etrafli</th>\n",
       "      <th>Sahiblər</th>\n",
       "      <th>Hansı bazar üçün yığılıb</th>\n",
       "      <th>Yerlərin sayı</th>\n",
       "      <th>Qəzalı</th>\n",
       "    </tr>\n",
       "  </thead>\n",
       "  <tbody>\n",
       "    <tr>\n",
       "      <th>0</th>\n",
       "      <td>0</td>\n",
       "      <td>13500</td>\n",
       "      <td>AZN</td>\n",
       "      <td>Bakı</td>\n",
       "      <td>Opel</td>\n",
       "      <td>Vectra</td>\n",
       "      <td>2000</td>\n",
       "      <td>Hetçbek</td>\n",
       "      <td>Göy</td>\n",
       "      <td>1.6 L/101 a.g./Benzin</td>\n",
       "      <td>370 000 km</td>\n",
       "      <td>Mexaniki</td>\n",
       "      <td>Ön</td>\n",
       "      <td>Xeyr</td>\n",
       "      <td>Vuruğu yoxdur, rənglənib</td>\n",
       "      <td>28.05.2023</td>\n",
       "      <td>267</td>\n",
       "      <td>Yüngül lehimli disklər, ABS, Kondisioner, Dəri...</td>\n",
       "      <td>Salam Barter mümkündür. 1.6 sadə mator mexanik...</td>\n",
       "      <td>2</td>\n",
       "      <td>Avropa</td>\n",
       "      <td>5</td>\n",
       "      <td>NaN</td>\n",
       "    </tr>\n",
       "    <tr>\n",
       "      <th>1</th>\n",
       "      <td>1</td>\n",
       "      <td>23500</td>\n",
       "      <td>USD</td>\n",
       "      <td>Bakı</td>\n",
       "      <td>Toyota</td>\n",
       "      <td>Corolla</td>\n",
       "      <td>2023</td>\n",
       "      <td>Sedan</td>\n",
       "      <td>Mavi</td>\n",
       "      <td>1.8 L/178 a.g./Hibrid</td>\n",
       "      <td>0 km</td>\n",
       "      <td>Avtomat</td>\n",
       "      <td>Ön</td>\n",
       "      <td>Bəli</td>\n",
       "      <td>Vuruğu yoxdur, rənglənməyib</td>\n",
       "      <td>28.05.2023</td>\n",
       "      <td>12410</td>\n",
       "      <td>Yüngül lehimli disklər, ABS, Yağış sensoru, Mə...</td>\n",
       "      <td>TOYOTA CAROLLA 2023 ALIŞ. 2 İL 80.000 KM ZƏMAN...</td>\n",
       "      <td>1</td>\n",
       "      <td>Rəsmi diler</td>\n",
       "      <td>5</td>\n",
       "      <td>NaN</td>\n",
       "    </tr>\n",
       "    <tr>\n",
       "      <th>2</th>\n",
       "      <td>0</td>\n",
       "      <td>33200</td>\n",
       "      <td>AZN</td>\n",
       "      <td>Bakı</td>\n",
       "      <td>Hyundai</td>\n",
       "      <td>Santa Fe</td>\n",
       "      <td>2013</td>\n",
       "      <td>Offroader / SUV</td>\n",
       "      <td>Qara</td>\n",
       "      <td>2.0 L/184 a.g./Dizel</td>\n",
       "      <td>168 636 km</td>\n",
       "      <td>Avtomat</td>\n",
       "      <td>Ön</td>\n",
       "      <td>Xeyr</td>\n",
       "      <td>Vuruğu yoxdur, rənglənməyib</td>\n",
       "      <td>28.05.2023</td>\n",
       "      <td>148</td>\n",
       "      <td>Yüngül lehimli disklər, ABS, Lyuk, Yağış senso...</td>\n",
       "      <td>Yeni gelib bakida surlmuyb qiymet mawin yanind...</td>\n",
       "      <td>1</td>\n",
       "      <td>Avropa</td>\n",
       "      <td>7</td>\n",
       "      <td>NaN</td>\n",
       "    </tr>\n",
       "    <tr>\n",
       "      <th>3</th>\n",
       "      <td>0</td>\n",
       "      <td>17000</td>\n",
       "      <td>AZN</td>\n",
       "      <td>Bakı</td>\n",
       "      <td>Ford</td>\n",
       "      <td>Fusion</td>\n",
       "      <td>2015</td>\n",
       "      <td>Sedan</td>\n",
       "      <td>Göy</td>\n",
       "      <td>1.5 L/181 a.g./Benzin</td>\n",
       "      <td>120 873 km</td>\n",
       "      <td>Avtomat</td>\n",
       "      <td>Ön</td>\n",
       "      <td>Xeyr</td>\n",
       "      <td>Vuruğu yoxdur, rənglənməyib</td>\n",
       "      <td>25.05.2023</td>\n",
       "      <td>3358</td>\n",
       "      <td>Yüngül lehimli disklər, ABS, Yağış sensoru, Mə...</td>\n",
       "      <td>Maşın xanım tərəfindən idarə olunub</td>\n",
       "      <td>NaN</td>\n",
       "      <td>NaN</td>\n",
       "      <td>NaN</td>\n",
       "      <td>NaN</td>\n",
       "    </tr>\n",
       "    <tr>\n",
       "      <th>4</th>\n",
       "      <td>0</td>\n",
       "      <td>36000</td>\n",
       "      <td>USD</td>\n",
       "      <td>Bakı</td>\n",
       "      <td>Toyota</td>\n",
       "      <td>RAV4</td>\n",
       "      <td>2022</td>\n",
       "      <td>Offroader / SUV</td>\n",
       "      <td>Qara</td>\n",
       "      <td>2.0 L/173 a.g./Benzin</td>\n",
       "      <td>0 km</td>\n",
       "      <td>Avtomat</td>\n",
       "      <td>Ön</td>\n",
       "      <td>Bəli</td>\n",
       "      <td>Vuruğu yoxdur, rənglənməyib</td>\n",
       "      <td>28.05.2023</td>\n",
       "      <td>16183</td>\n",
       "      <td>Yüngül lehimli disklər, ABS, Yağış sensoru, Mə...</td>\n",
       "      <td>Rəsmi dilerdən 10 il və ya 160.000 km zəmanəti...</td>\n",
       "      <td>1</td>\n",
       "      <td>NaN</td>\n",
       "      <td>5</td>\n",
       "      <td>NaN</td>\n",
       "    </tr>\n",
       "  </tbody>\n",
       "</table>\n",
       "</div>"
      ],
      "text/plain": [
       "   Avtosalon  Qiymet Valyuta Şəhər    Marka     Model  Buraxılış ili  \\\n",
       "0          0   13500     AZN  Bakı     Opel    Vectra           2000   \n",
       "1          1   23500     USD  Bakı   Toyota   Corolla           2023   \n",
       "2          0   33200     AZN  Bakı  Hyundai  Santa Fe           2013   \n",
       "3          0   17000     AZN  Bakı     Ford    Fusion           2015   \n",
       "4          0   36000     USD  Bakı   Toyota      RAV4           2022   \n",
       "\n",
       "          Ban növü  Rəng               Mühərrik       Yürüş Sürətlər qutusu  \\\n",
       "0          Hetçbek   Göy  1.6 L/101 a.g./Benzin  370 000 km        Mexaniki   \n",
       "1            Sedan  Mavi  1.8 L/178 a.g./Hibrid        0 km         Avtomat   \n",
       "2  Offroader / SUV  Qara   2.0 L/184 a.g./Dizel  168 636 km         Avtomat   \n",
       "3            Sedan   Göy  1.5 L/181 a.g./Benzin  120 873 km         Avtomat   \n",
       "4  Offroader / SUV  Qara  2.0 L/173 a.g./Benzin        0 km         Avtomat   \n",
       "\n",
       "  Ötürücü  Yeni                    Vəziyyəti    Yeniləndi  Baxışların sayı  \\\n",
       "0      Ön  Xeyr     Vuruğu yoxdur, rənglənib   28.05.2023              267   \n",
       "1      Ön  Bəli  Vuruğu yoxdur, rənglənməyib   28.05.2023            12410   \n",
       "2      Ön  Xeyr  Vuruğu yoxdur, rənglənməyib   28.05.2023              148   \n",
       "3      Ön  Xeyr  Vuruğu yoxdur, rənglənməyib   25.05.2023             3358   \n",
       "4      Ön  Bəli  Vuruğu yoxdur, rənglənməyib   28.05.2023            16183   \n",
       "\n",
       "                                               Extra  \\\n",
       "0  Yüngül lehimli disklər, ABS, Kondisioner, Dəri...   \n",
       "1  Yüngül lehimli disklər, ABS, Yağış sensoru, Mə...   \n",
       "2  Yüngül lehimli disklər, ABS, Lyuk, Yağış senso...   \n",
       "3  Yüngül lehimli disklər, ABS, Yağış sensoru, Mə...   \n",
       "4  Yüngül lehimli disklər, ABS, Yağış sensoru, Mə...   \n",
       "\n",
       "                                             Etrafli Sahiblər  \\\n",
       "0  Salam Barter mümkündür. 1.6 sadə mator mexanik...        2   \n",
       "1  TOYOTA CAROLLA 2023 ALIŞ. 2 İL 80.000 KM ZƏMAN...        1   \n",
       "2  Yeni gelib bakida surlmuyb qiymet mawin yanind...        1   \n",
       "3                Maşın xanım tərəfindən idarə olunub      NaN   \n",
       "4  Rəsmi dilerdən 10 il və ya 160.000 km zəmanəti...        1   \n",
       "\n",
       "  Hansı bazar üçün yığılıb Yerlərin sayı Qəzalı  \n",
       "0                   Avropa             5    NaN  \n",
       "1              Rəsmi diler             5    NaN  \n",
       "2                   Avropa             7    NaN  \n",
       "3                      NaN           NaN    NaN  \n",
       "4                      NaN             5    NaN  "
      ]
     },
     "execution_count": 5,
     "metadata": {},
     "output_type": "execute_result"
    }
   ],
   "source": [
    "df.head(5)"
   ]
  },
  {
   "cell_type": "code",
   "execution_count": 6,
   "id": "c78fa269-9662-40e3-b76c-6c2dd13c7865",
   "metadata": {},
   "outputs": [
    {
     "name": "stdout",
     "output_type": "stream",
     "text": [
      "<class 'pandas.core.frame.DataFrame'>\n",
      "Index: 9968 entries, 0 to 9999\n",
      "Data columns (total 22 columns):\n",
      " #   Column                    Non-Null Count  Dtype \n",
      "---  ------                    --------------  ----- \n",
      " 0   Avtosalon                 9968 non-null   int64 \n",
      " 1   Qiymet                    9968 non-null   int64 \n",
      " 2   Valyuta                   9968 non-null   object\n",
      " 3   Şəhər                     9968 non-null   object\n",
      " 4   Marka                     9968 non-null   object\n",
      " 5   Model                     9968 non-null   object\n",
      " 6   Buraxılış ili             9968 non-null   int64 \n",
      " 7   Ban növü                  9968 non-null   object\n",
      " 8   Rəng                      9968 non-null   object\n",
      " 9   Mühərrik                  9968 non-null   object\n",
      " 10  Yürüş                     9968 non-null   object\n",
      " 11  Sürətlər qutusu           9968 non-null   object\n",
      " 12  Ötürücü                   9968 non-null   object\n",
      " 13  Yeni                      9968 non-null   object\n",
      " 14  Vəziyyəti                 9940 non-null   object\n",
      " 15  Yeniləndi                 9968 non-null   object\n",
      " 16  Baxışların sayı           9968 non-null   int64 \n",
      " 17  Extra                     9214 non-null   object\n",
      " 18  Etrafli                   9688 non-null   object\n",
      " 19  Sahiblər                  6174 non-null   object\n",
      " 20  Hansı bazar üçün yığılıb  6684 non-null   object\n",
      " 21  Yerlərin sayı             6813 non-null   object\n",
      "dtypes: int64(4), object(18)\n",
      "memory usage: 1.7+ MB\n"
     ]
    }
   ],
   "source": [
    "df = df[df['Qəzalı'].isnull()]\n",
    "df = df.drop(columns = 'Qəzalı')\n",
    "df.info()"
   ]
  },
  {
   "cell_type": "code",
   "execution_count": 7,
   "id": "cb0a56b5-94e8-4635-bcac-bcc91ccf90c9",
   "metadata": {},
   "outputs": [
    {
     "data": {
      "text/plain": [
       "Avtosalon                      0\n",
       "Qiymet                         0\n",
       "Valyuta                        0\n",
       "Şəhər                          0\n",
       "Marka                          0\n",
       "Model                          0\n",
       "Buraxılış ili                  0\n",
       "Ban növü                       0\n",
       "Rəng                           0\n",
       "Mühərrik                       0\n",
       "Yürüş                          0\n",
       "Sürətlər qutusu                0\n",
       "Ötürücü                        0\n",
       "Yeni                           0\n",
       "Vəziyyəti                     28\n",
       "Yeniləndi                      0\n",
       "Baxışların sayı                0\n",
       "Extra                        754\n",
       "Etrafli                      280\n",
       "Sahiblər                    3794\n",
       "Hansı bazar üçün yığılıb    3284\n",
       "Yerlərin sayı               3155\n",
       "dtype: int64"
      ]
     },
     "execution_count": 7,
     "metadata": {},
     "output_type": "execute_result"
    }
   ],
   "source": [
    "df.isnull().sum()"
   ]
  },
  {
   "cell_type": "code",
   "execution_count": 8,
   "id": "0572179a-d571-40a5-993c-f71f0afdc314",
   "metadata": {},
   "outputs": [
    {
     "data": {
      "text/plain": [
       "'Vuruğu yoxdur, rənglənməyib'"
      ]
     },
     "execution_count": 8,
     "metadata": {},
     "output_type": "execute_result"
    }
   ],
   "source": [
    "df['Vəziyyəti'].mode()[0]"
   ]
  },
  {
   "cell_type": "code",
   "execution_count": 9,
   "id": "2760f622-9b87-4ce9-83fd-4742212c5d59",
   "metadata": {},
   "outputs": [],
   "source": [
    "mode = df['Vəziyyəti'].mode()[0]\n",
    "df['Vəziyyəti'].fillna(mode , inplace = True)"
   ]
  },
  {
   "cell_type": "code",
   "execution_count": 10,
   "id": "05b2fcc1-9846-4fd4-8344-a763412b8e0d",
   "metadata": {},
   "outputs": [
    {
     "name": "stdout",
     "output_type": "stream",
     "text": [
      "<class 'pandas.core.frame.DataFrame'>\n",
      "Index: 9968 entries, 0 to 9999\n",
      "Data columns (total 22 columns):\n",
      " #   Column                    Non-Null Count  Dtype \n",
      "---  ------                    --------------  ----- \n",
      " 0   Avtosalon                 9968 non-null   int64 \n",
      " 1   Qiymet                    9968 non-null   int64 \n",
      " 2   Valyuta                   9968 non-null   object\n",
      " 3   Şəhər                     9968 non-null   object\n",
      " 4   Marka                     9968 non-null   object\n",
      " 5   Model                     9968 non-null   object\n",
      " 6   Buraxılış ili             9968 non-null   int64 \n",
      " 7   Ban növü                  9968 non-null   object\n",
      " 8   Rəng                      9968 non-null   object\n",
      " 9   Mühərrik                  9968 non-null   object\n",
      " 10  Yürüş                     9968 non-null   object\n",
      " 11  Sürətlər qutusu           9968 non-null   object\n",
      " 12  Ötürücü                   9968 non-null   object\n",
      " 13  Yeni                      9968 non-null   object\n",
      " 14  Vəziyyəti                 9968 non-null   object\n",
      " 15  Yeniləndi                 9968 non-null   object\n",
      " 16  Baxışların sayı           9968 non-null   int64 \n",
      " 17  Extra                     9214 non-null   object\n",
      " 18  Etrafli                   9688 non-null   object\n",
      " 19  Sahiblər                  6174 non-null   object\n",
      " 20  Hansı bazar üçün yığılıb  6684 non-null   object\n",
      " 21  Yerlərin sayı             6813 non-null   object\n",
      "dtypes: int64(4), object(18)\n",
      "memory usage: 1.7+ MB\n"
     ]
    }
   ],
   "source": [
    "df.info()"
   ]
  },
  {
   "cell_type": "code",
   "execution_count": 11,
   "id": "4a37660e-2f81-4e72-86a1-23f97e050253",
   "metadata": {},
   "outputs": [
    {
     "data": {
      "text/plain": [
       "Extra\n",
       "Yüngül lehimli disklər, ABS, Lyuk, Yağış sensoru, Mərkəzi qapanma, Park radarı, Kondisioner, Oturacaqların isidilməsi, Dəri salon, Ksenon lampalar, Arxa görüntü kamerası, Yan pərdələr, Oturacaqların ventilyasiyası    1829\n",
       "Yüngül lehimli disklər, ABS, Lyuk, Yağış sensoru, Mərkəzi qapanma, Park radarı, Kondisioner, Oturacaqların isidilməsi, Dəri salon, Ksenon lampalar, Arxa görüntü kamerası, Oturacaqların ventilyasiyası                   391\n",
       "Yüngül lehimli disklər, ABS, Lyuk, Yağış sensoru, Mərkəzi qapanma, Park radarı, Kondisioner, Oturacaqların isidilməsi, Dəri salon, Ksenon lampalar, Arxa görüntü kamerası, Yan pərdələr                                   339\n",
       "Yüngül lehimli disklər, ABS, Yağış sensoru, Mərkəzi qapanma, Park radarı, Kondisioner, Oturacaqların isidilməsi, Dəri salon, Ksenon lampalar, Arxa görüntü kamerası, Yan pərdələr, Oturacaqların ventilyasiyası           325\n",
       "Yüngül lehimli disklər, ABS, Lyuk, Yağış sensoru, Mərkəzi qapanma, Park radarı, Kondisioner, Oturacaqların isidilməsi, Dəri salon, Ksenon lampalar, Arxa görüntü kamerası                                                 324\n",
       "                                                                                                                                                                                                                         ... \n",
       "Yüngül lehimli disklər, ABS, Lyuk, Kondisioner, Ksenon lampalar, Arxa görüntü kamerası                                                                                                                                      1\n",
       "ABS, Mərkəzi qapanma, Yan pərdələr                                                                                                                                                                                          1\n",
       "Lyuk, Park radarı, Kondisioner, Oturacaqların isidilməsi, Dəri salon, Arxa görüntü kamerası                                                                                                                                 1\n",
       "Lyuk, Mərkəzi qapanma, Kondisioner, Oturacaqların ventilyasiyası                                                                                                                                                            1\n",
       "Yüngül lehimli disklər, ABS, Lyuk, Mərkəzi qapanma, Kondisioner, Dəri salon, Ksenon lampalar, Yan pərdələr, Oturacaqların ventilyasiyası                                                                                    1\n",
       "Name: count, Length: 1164, dtype: int64"
      ]
     },
     "execution_count": 11,
     "metadata": {},
     "output_type": "execute_result"
    }
   ],
   "source": [
    "df['Extra'].value_counts()"
   ]
  },
  {
   "cell_type": "code",
   "execution_count": 12,
   "id": "7ba33bb0-e814-4991-81fd-163e852f73dc",
   "metadata": {},
   "outputs": [],
   "source": [
    "df = df.drop(columns = 'Extra')"
   ]
  },
  {
   "cell_type": "code",
   "execution_count": 13,
   "id": "d2b430d7-ceff-4ea5-9f9c-457d77f1c701",
   "metadata": {},
   "outputs": [
    {
     "data": {
      "text/plain": [
       "Etrafli\n",
       "HAL HAZIRDA SATİŞDA 30 DAN ÇOX YAPONİYADAN YENİ GƏLMİŞ BAKİDA SÜRÜLMƏMİŞ NİSSAN TİDA XECBEKT. NİSSAN TİDA SEDAN. NİSSAN MİCRA. NİSSAN SUNNY. NİSSAN NOTE MODELİ MOVCUDDUR ---------------------------------------------------------- İlkin ödəniş 25% dən başlayaraq illik faiz dərəcəsi 14% olmaqla 2007 ci ildən yuxari bütün növ minik maşinlarini Bank yolu ilə bizə müraciət edərək əldə edə bilərsiniz!! ---------------------------------------------------------- Ilkin odenis minimum 4000 azn olmaq şərti ilə Sizlerə Bank Krediti ( kasko siğorta ve DYP xerci daxil illik 14 % olmaqla ) təklif edirik Ayliq ödənişdər Bank Mutəxəssisi tərəfindən deyiləcək sizlərə !! sənədləşdirmə 1 saat ərzində olunur (Baki və Rayon Qeydiyyatinda olan Şəxslərə Şəxsiyyət vəsiqəsi. vöyn ve prava olmaq sərti ilə Mümkündür) ---------------------------------------------------------- Avtomobillər Bizim AvtoExpressBaku Avtosalonu Tərəfindən Müşdərilərə Rəsmi Qarantiya ilə Sizlərə Təqdim edirik. ( Qarantiya Daxilində Mator.Karobka.Rulavoy. Elektoronika.xadavoyun bezi hissələri Qarantiya müqaviləsində qeyd olunub )    55\n",
       "Mawinda hec bir vuruq yoxdur. Xodovoy ve elektron sisteminde hec bir prablem yoxdur. Butun funksiyalar iwlekdir. Salon seliqeli veziyyetdedir. Senedler qaydasindadir. Real aliciya mawina baxdiqdan sonra qiymetde razilawmaq olar.                                                                                                                                                                                                                                                                                                                                                                                                                                                                                                                                                                                                                                                                                                                                                                                                                                                                                                   31\n",
       "Avtomobil yaxşı veziyyetdedir. Mator Karopka peredok sistemi əla vəziyyətdədir. Salonu çox səliqəlidir. Alıcı istənilən servisde yoxlada bilər. ********************************************* Kredit Barter mümkündür. İlkin ödəniş 50 faiz olmaqla istənilən avtomobilin 1 saat ərzində rəsmiləşdirib müştəriyə verilməsi. ********************************************* Ünvan: Abşeron rayonu Saray qəsəbəsi Heyder Əliyev prospekti 7 ( SARAY H MTK) nın altı                                                                                                                                                                                                                                                                                                                                                                                                                                                                                                                                                                                                                                                                       26\n",
       "Avtomobilə Otoplaza Mall avtomobil şəhərciyində yerləşən CarPro ikinci əl avtomobillərin satış mərkəzində (Babək pr. Daxili qoşunlar ilə üz-üzə) baxa bilərsiniz. Barter yalnız Hyundai marka avtomobillərlə mümkündü. 20% ilkin ödənişlə daxili kredit şərtləri mövcuddur. İkinci əl avtomobillərin etibarlı satış mərkəzi olan CarPro-ya gəlin, istədiyiniz avtomobili seçin və sərfəli kredit şərtləri ilə əldə edin. Orijinal yürüş məsafəsinə malik avtomobillər, geniş seçim, peşəkar mütəxəssislər, sərfəli şərtlər sizi gözləyir. Üstünlüklərimiz:  Auto Azərbaycan zəmanəti;  İlkin ödəniş 20% olmaqla 36 aylıq daxili kredit  Sürətli rəsmiləşdirmə;  Yüksək keyfiyyətli müştəri xidmətləri;  Geniş seçim imkanları.  Orijinal yürüş məsafəsi  Satış öncəsi peşəkar yoxlanış Babək pr. 61C, Otoplaza Mall                                                                                                                                                                                                                                                                                                             17\n",
       "Tecili satilir                                                                                                                                                                                                                                                                                                                                                                                                                                                                                                                                                                                                                                                                                                                                                                                                                                                                                                                                                                                                                                                                                                                         13\n",
       "                                                                                                                                                                                                                                                                                                                                                                                                                                                                                                                                                                                                                                                                                                                                                                                                                                                                                                                                                                                                                                                                                                                                       ..\n",
       "Masin olkeye yeni gelib Ilkin odenis. 4500.  26ay. 470m Ilkin odenis. 3500.  31ay. 470m                                                                                                                                                                                                                                                                                                                                                                                                                                                                                                                                                                                                                                                                                                                                                                                                                                                                                                                                                                                                                                                 1\n",
       "Avtomobil saz vəziyyətdədir. Qaz sistemi əlavə qoşulub ATİKER  Texniki pasportda qeyd olunub. Real alıcı zəng etsin. Nömrə bahalıdı pay verəcəm üstündə                                                                                                                                                                                                                                                                                                                                                                                                                                                                                                                                                                                                                                                                                                                                                                                                                                                                                                                                                                                 1\n",
       "Salamat seliqeli mawindi istiyen ustasiyla gelsin baxsin qiymeti sondu cunki her yerine vaxti vaxtinda baxilib mawinin curuyu yoxdu kraskasida zerli goy kraskadi                                                                                                                                                                                                                                                                                                                                                                                                                                                                                                                                                                                                                                                                                                                                                                                                                                                                                                                                                                       1\n",
       "salam masin ozume mexsusdur Almaniyadan şexsi istifade ucun getirmisem hecbir problemi yoxdur ciddi alici ile masinin yaninda qiymet danisilacaq                                                                                                                                                                                                                                                                                                                                                                                                                                                                                                                                                                                                                                                                                                                                                                                                                                                                                                                                                                                        1\n",
       "Rasxodlar ödənilib                                                                                                                                                                                                                                                                                                                                                                                                                                                                                                                                                                                                                                                                                                                                                                                                                                                                                                                                                                                                                                                                                                                      1\n",
       "Name: count, Length: 9392, dtype: int64"
      ]
     },
     "execution_count": 13,
     "metadata": {},
     "output_type": "execute_result"
    }
   ],
   "source": [
    "df['Etrafli'].value_counts()"
   ]
  },
  {
   "cell_type": "code",
   "execution_count": 14,
   "id": "eb54b9fd-5515-48a4-b36b-66e58be69f91",
   "metadata": {},
   "outputs": [],
   "source": [
    "df = df.drop(columns = 'Etrafli')"
   ]
  },
  {
   "cell_type": "code",
   "execution_count": 15,
   "id": "d8a183ad-f0b1-4516-a955-096f803a9b1f",
   "metadata": {},
   "outputs": [
    {
     "name": "stdout",
     "output_type": "stream",
     "text": [
      "<class 'pandas.core.frame.DataFrame'>\n",
      "Index: 9968 entries, 0 to 9999\n",
      "Data columns (total 20 columns):\n",
      " #   Column                    Non-Null Count  Dtype \n",
      "---  ------                    --------------  ----- \n",
      " 0   Avtosalon                 9968 non-null   int64 \n",
      " 1   Qiymet                    9968 non-null   int64 \n",
      " 2   Valyuta                   9968 non-null   object\n",
      " 3   Şəhər                     9968 non-null   object\n",
      " 4   Marka                     9968 non-null   object\n",
      " 5   Model                     9968 non-null   object\n",
      " 6   Buraxılış ili             9968 non-null   int64 \n",
      " 7   Ban növü                  9968 non-null   object\n",
      " 8   Rəng                      9968 non-null   object\n",
      " 9   Mühərrik                  9968 non-null   object\n",
      " 10  Yürüş                     9968 non-null   object\n",
      " 11  Sürətlər qutusu           9968 non-null   object\n",
      " 12  Ötürücü                   9968 non-null   object\n",
      " 13  Yeni                      9968 non-null   object\n",
      " 14  Vəziyyəti                 9968 non-null   object\n",
      " 15  Yeniləndi                 9968 non-null   object\n",
      " 16  Baxışların sayı           9968 non-null   int64 \n",
      " 17  Sahiblər                  6174 non-null   object\n",
      " 18  Hansı bazar üçün yığılıb  6684 non-null   object\n",
      " 19  Yerlərin sayı             6813 non-null   object\n",
      "dtypes: int64(4), object(16)\n",
      "memory usage: 1.6+ MB\n"
     ]
    }
   ],
   "source": [
    "df.info()"
   ]
  },
  {
   "cell_type": "code",
   "execution_count": 16,
   "id": "dac1f8a5-2f8a-4075-9584-1e77ef1568c9",
   "metadata": {},
   "outputs": [
    {
     "data": {
      "text/plain": [
       "Sahiblər\n",
       "1                2844\n",
       "2                2273\n",
       "0                 607\n",
       "3                 369\n",
       "4 və daha çox      81\n",
       "Name: count, dtype: int64"
      ]
     },
     "execution_count": 16,
     "metadata": {},
     "output_type": "execute_result"
    }
   ],
   "source": [
    "df['Sahiblər'].value_counts()"
   ]
  },
  {
   "cell_type": "code",
   "execution_count": 17,
   "id": "650d54cc-e899-4eb8-888b-4f8b857636a6",
   "metadata": {},
   "outputs": [],
   "source": [
    "df['Sahiblər'] = df['Sahiblər'].ffill()"
   ]
  },
  {
   "cell_type": "code",
   "execution_count": 18,
   "id": "20c09853-1f0e-4fab-a57c-95083d5f21a3",
   "metadata": {},
   "outputs": [
    {
     "data": {
      "text/plain": [
       "Sahiblər\n",
       "1                4590\n",
       "2                3716\n",
       "0                 964\n",
       "3                 574\n",
       "4 və daha çox     124\n",
       "Name: count, dtype: int64"
      ]
     },
     "execution_count": 18,
     "metadata": {},
     "output_type": "execute_result"
    }
   ],
   "source": [
    "df['Sahiblər'].value_counts()"
   ]
  },
  {
   "cell_type": "code",
   "execution_count": 19,
   "id": "e73af82b-6035-42b2-9366-1334961169d8",
   "metadata": {},
   "outputs": [
    {
     "data": {
      "text/plain": [
       "Hansı bazar üçün yığılıb\n",
       "Avropa         2083\n",
       "Rəsmi diler    1445\n",
       "Amerika        1309\n",
       "Koreya          695\n",
       "Rusiya          493\n",
       "Digər           377\n",
       "Yaponiya        203\n",
       "Dubay            79\n",
       "Name: count, dtype: int64"
      ]
     },
     "execution_count": 19,
     "metadata": {},
     "output_type": "execute_result"
    }
   ],
   "source": [
    "df['Hansı bazar üçün yığılıb'].value_counts()"
   ]
  },
  {
   "cell_type": "code",
   "execution_count": 20,
   "id": "29db649f-7082-49b9-921c-14d48c65faab",
   "metadata": {},
   "outputs": [],
   "source": [
    "df['Hansı bazar üçün yığılıb'] = df['Hansı bazar üçün yığılıb'].ffill()"
   ]
  },
  {
   "cell_type": "code",
   "execution_count": 21,
   "id": "39c06940-e811-4aa1-aacf-2d4ec801abde",
   "metadata": {},
   "outputs": [
    {
     "data": {
      "text/plain": [
       "Hansı bazar üçün yığılıb\n",
       "Avropa         3085\n",
       "Rəsmi diler    2117\n",
       "Amerika        2030\n",
       "Koreya         1014\n",
       "Rusiya          749\n",
       "Digər           558\n",
       "Yaponiya        297\n",
       "Dubay           118\n",
       "Name: count, dtype: int64"
      ]
     },
     "execution_count": 21,
     "metadata": {},
     "output_type": "execute_result"
    }
   ],
   "source": [
    "df['Hansı bazar üçün yığılıb'].value_counts()"
   ]
  },
  {
   "cell_type": "code",
   "execution_count": 22,
   "id": "3c5aa635-f82c-4a01-a565-948dbe73d7a3",
   "metadata": {},
   "outputs": [
    {
     "data": {
      "text/plain": [
       "Yerlərin sayı\n",
       "5     4358\n",
       "7     1194\n",
       "4      826\n",
       "3      187\n",
       "2      115\n",
       "8+      74\n",
       "6       40\n",
       "1       19\n",
       "Name: count, dtype: int64"
      ]
     },
     "execution_count": 22,
     "metadata": {},
     "output_type": "execute_result"
    }
   ],
   "source": [
    "df['Yerlərin sayı'].value_counts()"
   ]
  },
  {
   "cell_type": "code",
   "execution_count": 23,
   "id": "721e08d0-3aa5-431b-aa3f-85cb8a517641",
   "metadata": {},
   "outputs": [],
   "source": [
    "df['Yerlərin sayı'] = df['Yerlərin sayı'].ffill()"
   ]
  },
  {
   "cell_type": "code",
   "execution_count": 24,
   "id": "5a2a7ba1-2643-461f-867e-1e9cdbe095c2",
   "metadata": {},
   "outputs": [
    {
     "data": {
      "text/plain": [
       "Yerlərin sayı\n",
       "5     6399\n",
       "7     1693\n",
       "4     1217\n",
       "3      299\n",
       "2      165\n",
       "8+     113\n",
       "6       57\n",
       "1       25\n",
       "Name: count, dtype: int64"
      ]
     },
     "execution_count": 24,
     "metadata": {},
     "output_type": "execute_result"
    }
   ],
   "source": [
    "df['Yerlərin sayı'].value_counts()"
   ]
  },
  {
   "cell_type": "code",
   "execution_count": 25,
   "id": "a37aeda6-0b82-4c8a-9e94-d880cd7a8b1a",
   "metadata": {},
   "outputs": [
    {
     "name": "stdout",
     "output_type": "stream",
     "text": [
      "<class 'pandas.core.frame.DataFrame'>\n",
      "Index: 9968 entries, 0 to 9999\n",
      "Data columns (total 20 columns):\n",
      " #   Column                    Non-Null Count  Dtype \n",
      "---  ------                    --------------  ----- \n",
      " 0   Avtosalon                 9968 non-null   int64 \n",
      " 1   Qiymet                    9968 non-null   int64 \n",
      " 2   Valyuta                   9968 non-null   object\n",
      " 3   Şəhər                     9968 non-null   object\n",
      " 4   Marka                     9968 non-null   object\n",
      " 5   Model                     9968 non-null   object\n",
      " 6   Buraxılış ili             9968 non-null   int64 \n",
      " 7   Ban növü                  9968 non-null   object\n",
      " 8   Rəng                      9968 non-null   object\n",
      " 9   Mühərrik                  9968 non-null   object\n",
      " 10  Yürüş                     9968 non-null   object\n",
      " 11  Sürətlər qutusu           9968 non-null   object\n",
      " 12  Ötürücü                   9968 non-null   object\n",
      " 13  Yeni                      9968 non-null   object\n",
      " 14  Vəziyyəti                 9968 non-null   object\n",
      " 15  Yeniləndi                 9968 non-null   object\n",
      " 16  Baxışların sayı           9968 non-null   int64 \n",
      " 17  Sahiblər                  9968 non-null   object\n",
      " 18  Hansı bazar üçün yığılıb  9968 non-null   object\n",
      " 19  Yerlərin sayı             9968 non-null   object\n",
      "dtypes: int64(4), object(16)\n",
      "memory usage: 1.6+ MB\n"
     ]
    }
   ],
   "source": [
    "df.info()"
   ]
  },
  {
   "cell_type": "code",
   "execution_count": 26,
   "id": "7a0f8759-9769-47b9-8ac4-b18eb83bcc53",
   "metadata": {},
   "outputs": [
    {
     "data": {
      "text/html": [
       "<div>\n",
       "<style scoped>\n",
       "    .dataframe tbody tr th:only-of-type {\n",
       "        vertical-align: middle;\n",
       "    }\n",
       "\n",
       "    .dataframe tbody tr th {\n",
       "        vertical-align: top;\n",
       "    }\n",
       "\n",
       "    .dataframe thead th {\n",
       "        text-align: right;\n",
       "    }\n",
       "</style>\n",
       "<table border=\"1\" class=\"dataframe\">\n",
       "  <thead>\n",
       "    <tr style=\"text-align: right;\">\n",
       "      <th></th>\n",
       "      <th>Avtosalon</th>\n",
       "      <th>Qiymet</th>\n",
       "      <th>Valyuta</th>\n",
       "      <th>Şəhər</th>\n",
       "      <th>Marka</th>\n",
       "      <th>Model</th>\n",
       "      <th>Buraxılış ili</th>\n",
       "      <th>Ban növü</th>\n",
       "      <th>Rəng</th>\n",
       "      <th>Mühərrik</th>\n",
       "      <th>Yürüş</th>\n",
       "      <th>Sürətlər qutusu</th>\n",
       "      <th>Ötürücü</th>\n",
       "      <th>Yeni</th>\n",
       "      <th>Vəziyyəti</th>\n",
       "      <th>Yeniləndi</th>\n",
       "      <th>Baxışların sayı</th>\n",
       "      <th>Sahiblər</th>\n",
       "      <th>Hansı bazar üçün yığılıb</th>\n",
       "      <th>Yerlərin sayı</th>\n",
       "    </tr>\n",
       "  </thead>\n",
       "  <tbody>\n",
       "    <tr>\n",
       "      <th>0</th>\n",
       "      <td>0</td>\n",
       "      <td>13500</td>\n",
       "      <td>AZN</td>\n",
       "      <td>Bakı</td>\n",
       "      <td>Opel</td>\n",
       "      <td>Vectra</td>\n",
       "      <td>2000</td>\n",
       "      <td>Hetçbek</td>\n",
       "      <td>Göy</td>\n",
       "      <td>1.6 L/101 a.g./Benzin</td>\n",
       "      <td>370 000 km</td>\n",
       "      <td>Mexaniki</td>\n",
       "      <td>Ön</td>\n",
       "      <td>Xeyr</td>\n",
       "      <td>Vuruğu yoxdur, rənglənib</td>\n",
       "      <td>28.05.2023</td>\n",
       "      <td>267</td>\n",
       "      <td>2</td>\n",
       "      <td>Avropa</td>\n",
       "      <td>5</td>\n",
       "    </tr>\n",
       "    <tr>\n",
       "      <th>1</th>\n",
       "      <td>1</td>\n",
       "      <td>23500</td>\n",
       "      <td>USD</td>\n",
       "      <td>Bakı</td>\n",
       "      <td>Toyota</td>\n",
       "      <td>Corolla</td>\n",
       "      <td>2023</td>\n",
       "      <td>Sedan</td>\n",
       "      <td>Mavi</td>\n",
       "      <td>1.8 L/178 a.g./Hibrid</td>\n",
       "      <td>0 km</td>\n",
       "      <td>Avtomat</td>\n",
       "      <td>Ön</td>\n",
       "      <td>Bəli</td>\n",
       "      <td>Vuruğu yoxdur, rənglənməyib</td>\n",
       "      <td>28.05.2023</td>\n",
       "      <td>12410</td>\n",
       "      <td>1</td>\n",
       "      <td>Rəsmi diler</td>\n",
       "      <td>5</td>\n",
       "    </tr>\n",
       "    <tr>\n",
       "      <th>2</th>\n",
       "      <td>0</td>\n",
       "      <td>33200</td>\n",
       "      <td>AZN</td>\n",
       "      <td>Bakı</td>\n",
       "      <td>Hyundai</td>\n",
       "      <td>Santa Fe</td>\n",
       "      <td>2013</td>\n",
       "      <td>Offroader / SUV</td>\n",
       "      <td>Qara</td>\n",
       "      <td>2.0 L/184 a.g./Dizel</td>\n",
       "      <td>168 636 km</td>\n",
       "      <td>Avtomat</td>\n",
       "      <td>Ön</td>\n",
       "      <td>Xeyr</td>\n",
       "      <td>Vuruğu yoxdur, rənglənməyib</td>\n",
       "      <td>28.05.2023</td>\n",
       "      <td>148</td>\n",
       "      <td>1</td>\n",
       "      <td>Avropa</td>\n",
       "      <td>7</td>\n",
       "    </tr>\n",
       "  </tbody>\n",
       "</table>\n",
       "</div>"
      ],
      "text/plain": [
       "   Avtosalon  Qiymet Valyuta Şəhər    Marka     Model  Buraxılış ili  \\\n",
       "0          0   13500     AZN  Bakı     Opel    Vectra           2000   \n",
       "1          1   23500     USD  Bakı   Toyota   Corolla           2023   \n",
       "2          0   33200     AZN  Bakı  Hyundai  Santa Fe           2013   \n",
       "\n",
       "          Ban növü  Rəng               Mühərrik       Yürüş Sürətlər qutusu  \\\n",
       "0          Hetçbek   Göy  1.6 L/101 a.g./Benzin  370 000 km        Mexaniki   \n",
       "1            Sedan  Mavi  1.8 L/178 a.g./Hibrid        0 km         Avtomat   \n",
       "2  Offroader / SUV  Qara   2.0 L/184 a.g./Dizel  168 636 km         Avtomat   \n",
       "\n",
       "  Ötürücü  Yeni                    Vəziyyəti    Yeniləndi  Baxışların sayı  \\\n",
       "0      Ön  Xeyr     Vuruğu yoxdur, rənglənib   28.05.2023              267   \n",
       "1      Ön  Bəli  Vuruğu yoxdur, rənglənməyib   28.05.2023            12410   \n",
       "2      Ön  Xeyr  Vuruğu yoxdur, rənglənməyib   28.05.2023              148   \n",
       "\n",
       "  Sahiblər Hansı bazar üçün yığılıb Yerlərin sayı  \n",
       "0        2                   Avropa             5  \n",
       "1        1              Rəsmi diler             5  \n",
       "2        1                   Avropa             7  "
      ]
     },
     "execution_count": 26,
     "metadata": {},
     "output_type": "execute_result"
    }
   ],
   "source": [
    "df.head(3)"
   ]
  },
  {
   "cell_type": "code",
   "execution_count": 27,
   "id": "16e8e9b4-421d-4f73-826b-68741724bde7",
   "metadata": {},
   "outputs": [
    {
     "data": {
      "text/plain": [
       "Valyuta\n",
       "AZN    7476\n",
       "USD    2469\n",
       "EUR      23\n",
       "Name: count, dtype: int64"
      ]
     },
     "execution_count": 27,
     "metadata": {},
     "output_type": "execute_result"
    }
   ],
   "source": [
    "df['Valyuta'].value_counts()"
   ]
  },
  {
   "cell_type": "code",
   "execution_count": 28,
   "id": "7badc1da-3333-428c-9eb0-e3f958297a9a",
   "metadata": {},
   "outputs": [],
   "source": [
    "df.loc[df['Valyuta'] == 'USD', 'Qiymet'] = (df['Qiymet'] * 1.7).astype('int64')\n",
    "df.loc[df['Valyuta'] == 'EUR', 'Qiymet'] = (df['Qiymet'] * 1.88).astype('int64')"
   ]
  },
  {
   "cell_type": "code",
   "execution_count": 29,
   "id": "008e59e3-4df3-4bc0-871b-be7c6b13f3e9",
   "metadata": {},
   "outputs": [],
   "source": [
    "df['Valyuta'] = 'AZN'"
   ]
  },
  {
   "cell_type": "code",
   "execution_count": 30,
   "id": "0c420605-0627-4415-bc19-614707a1d172",
   "metadata": {},
   "outputs": [
    {
     "data": {
      "text/html": [
       "<div>\n",
       "<style scoped>\n",
       "    .dataframe tbody tr th:only-of-type {\n",
       "        vertical-align: middle;\n",
       "    }\n",
       "\n",
       "    .dataframe tbody tr th {\n",
       "        vertical-align: top;\n",
       "    }\n",
       "\n",
       "    .dataframe thead th {\n",
       "        text-align: right;\n",
       "    }\n",
       "</style>\n",
       "<table border=\"1\" class=\"dataframe\">\n",
       "  <thead>\n",
       "    <tr style=\"text-align: right;\">\n",
       "      <th></th>\n",
       "      <th>Avtosalon</th>\n",
       "      <th>Qiymet</th>\n",
       "      <th>Valyuta</th>\n",
       "      <th>Şəhər</th>\n",
       "      <th>Marka</th>\n",
       "      <th>Model</th>\n",
       "      <th>Buraxılış ili</th>\n",
       "      <th>Ban növü</th>\n",
       "      <th>Rəng</th>\n",
       "      <th>Mühərrik</th>\n",
       "      <th>Yürüş</th>\n",
       "      <th>Sürətlər qutusu</th>\n",
       "      <th>Ötürücü</th>\n",
       "      <th>Yeni</th>\n",
       "      <th>Vəziyyəti</th>\n",
       "      <th>Yeniləndi</th>\n",
       "      <th>Baxışların sayı</th>\n",
       "      <th>Sahiblər</th>\n",
       "      <th>Hansı bazar üçün yığılıb</th>\n",
       "      <th>Yerlərin sayı</th>\n",
       "    </tr>\n",
       "  </thead>\n",
       "  <tbody>\n",
       "    <tr>\n",
       "      <th>0</th>\n",
       "      <td>0</td>\n",
       "      <td>13500</td>\n",
       "      <td>AZN</td>\n",
       "      <td>Bakı</td>\n",
       "      <td>Opel</td>\n",
       "      <td>Vectra</td>\n",
       "      <td>2000</td>\n",
       "      <td>Hetçbek</td>\n",
       "      <td>Göy</td>\n",
       "      <td>1.6 L/101 a.g./Benzin</td>\n",
       "      <td>370 000 km</td>\n",
       "      <td>Mexaniki</td>\n",
       "      <td>Ön</td>\n",
       "      <td>Xeyr</td>\n",
       "      <td>Vuruğu yoxdur, rənglənib</td>\n",
       "      <td>28.05.2023</td>\n",
       "      <td>267</td>\n",
       "      <td>2</td>\n",
       "      <td>Avropa</td>\n",
       "      <td>5</td>\n",
       "    </tr>\n",
       "    <tr>\n",
       "      <th>1</th>\n",
       "      <td>1</td>\n",
       "      <td>39950</td>\n",
       "      <td>AZN</td>\n",
       "      <td>Bakı</td>\n",
       "      <td>Toyota</td>\n",
       "      <td>Corolla</td>\n",
       "      <td>2023</td>\n",
       "      <td>Sedan</td>\n",
       "      <td>Mavi</td>\n",
       "      <td>1.8 L/178 a.g./Hibrid</td>\n",
       "      <td>0 km</td>\n",
       "      <td>Avtomat</td>\n",
       "      <td>Ön</td>\n",
       "      <td>Bəli</td>\n",
       "      <td>Vuruğu yoxdur, rənglənməyib</td>\n",
       "      <td>28.05.2023</td>\n",
       "      <td>12410</td>\n",
       "      <td>1</td>\n",
       "      <td>Rəsmi diler</td>\n",
       "      <td>5</td>\n",
       "    </tr>\n",
       "    <tr>\n",
       "      <th>2</th>\n",
       "      <td>0</td>\n",
       "      <td>33200</td>\n",
       "      <td>AZN</td>\n",
       "      <td>Bakı</td>\n",
       "      <td>Hyundai</td>\n",
       "      <td>Santa Fe</td>\n",
       "      <td>2013</td>\n",
       "      <td>Offroader / SUV</td>\n",
       "      <td>Qara</td>\n",
       "      <td>2.0 L/184 a.g./Dizel</td>\n",
       "      <td>168 636 km</td>\n",
       "      <td>Avtomat</td>\n",
       "      <td>Ön</td>\n",
       "      <td>Xeyr</td>\n",
       "      <td>Vuruğu yoxdur, rənglənməyib</td>\n",
       "      <td>28.05.2023</td>\n",
       "      <td>148</td>\n",
       "      <td>1</td>\n",
       "      <td>Avropa</td>\n",
       "      <td>7</td>\n",
       "    </tr>\n",
       "    <tr>\n",
       "      <th>3</th>\n",
       "      <td>0</td>\n",
       "      <td>17000</td>\n",
       "      <td>AZN</td>\n",
       "      <td>Bakı</td>\n",
       "      <td>Ford</td>\n",
       "      <td>Fusion</td>\n",
       "      <td>2015</td>\n",
       "      <td>Sedan</td>\n",
       "      <td>Göy</td>\n",
       "      <td>1.5 L/181 a.g./Benzin</td>\n",
       "      <td>120 873 km</td>\n",
       "      <td>Avtomat</td>\n",
       "      <td>Ön</td>\n",
       "      <td>Xeyr</td>\n",
       "      <td>Vuruğu yoxdur, rənglənməyib</td>\n",
       "      <td>25.05.2023</td>\n",
       "      <td>3358</td>\n",
       "      <td>1</td>\n",
       "      <td>Avropa</td>\n",
       "      <td>7</td>\n",
       "    </tr>\n",
       "    <tr>\n",
       "      <th>4</th>\n",
       "      <td>0</td>\n",
       "      <td>61200</td>\n",
       "      <td>AZN</td>\n",
       "      <td>Bakı</td>\n",
       "      <td>Toyota</td>\n",
       "      <td>RAV4</td>\n",
       "      <td>2022</td>\n",
       "      <td>Offroader / SUV</td>\n",
       "      <td>Qara</td>\n",
       "      <td>2.0 L/173 a.g./Benzin</td>\n",
       "      <td>0 km</td>\n",
       "      <td>Avtomat</td>\n",
       "      <td>Ön</td>\n",
       "      <td>Bəli</td>\n",
       "      <td>Vuruğu yoxdur, rənglənməyib</td>\n",
       "      <td>28.05.2023</td>\n",
       "      <td>16183</td>\n",
       "      <td>1</td>\n",
       "      <td>Avropa</td>\n",
       "      <td>5</td>\n",
       "    </tr>\n",
       "  </tbody>\n",
       "</table>\n",
       "</div>"
      ],
      "text/plain": [
       "   Avtosalon  Qiymet Valyuta Şəhər    Marka     Model  Buraxılış ili  \\\n",
       "0          0   13500     AZN  Bakı     Opel    Vectra           2000   \n",
       "1          1   39950     AZN  Bakı   Toyota   Corolla           2023   \n",
       "2          0   33200     AZN  Bakı  Hyundai  Santa Fe           2013   \n",
       "3          0   17000     AZN  Bakı     Ford    Fusion           2015   \n",
       "4          0   61200     AZN  Bakı   Toyota      RAV4           2022   \n",
       "\n",
       "          Ban növü  Rəng               Mühərrik       Yürüş Sürətlər qutusu  \\\n",
       "0          Hetçbek   Göy  1.6 L/101 a.g./Benzin  370 000 km        Mexaniki   \n",
       "1            Sedan  Mavi  1.8 L/178 a.g./Hibrid        0 km         Avtomat   \n",
       "2  Offroader / SUV  Qara   2.0 L/184 a.g./Dizel  168 636 km         Avtomat   \n",
       "3            Sedan   Göy  1.5 L/181 a.g./Benzin  120 873 km         Avtomat   \n",
       "4  Offroader / SUV  Qara  2.0 L/173 a.g./Benzin        0 km         Avtomat   \n",
       "\n",
       "  Ötürücü  Yeni                    Vəziyyəti    Yeniləndi  Baxışların sayı  \\\n",
       "0      Ön  Xeyr     Vuruğu yoxdur, rənglənib   28.05.2023              267   \n",
       "1      Ön  Bəli  Vuruğu yoxdur, rənglənməyib   28.05.2023            12410   \n",
       "2      Ön  Xeyr  Vuruğu yoxdur, rənglənməyib   28.05.2023              148   \n",
       "3      Ön  Xeyr  Vuruğu yoxdur, rənglənməyib   25.05.2023             3358   \n",
       "4      Ön  Bəli  Vuruğu yoxdur, rənglənməyib   28.05.2023            16183   \n",
       "\n",
       "  Sahiblər Hansı bazar üçün yığılıb Yerlərin sayı  \n",
       "0        2                   Avropa             5  \n",
       "1        1              Rəsmi diler             5  \n",
       "2        1                   Avropa             7  \n",
       "3        1                   Avropa             7  \n",
       "4        1                   Avropa             5  "
      ]
     },
     "execution_count": 30,
     "metadata": {},
     "output_type": "execute_result"
    }
   ],
   "source": [
    "df.head()"
   ]
  },
  {
   "cell_type": "code",
   "execution_count": 31,
   "id": "dcab0ead-2bbc-4958-8972-103eba347e8b",
   "metadata": {},
   "outputs": [],
   "source": [
    "df[['Mühərrik', 'Yanacaq tipi']] = df['Mühərrik'].str.rsplit('/', n=1, expand=True)"
   ]
  },
  {
   "cell_type": "code",
   "execution_count": 32,
   "id": "b5c8cd7c-41d0-4ae6-b171-fd7ab18fd744",
   "metadata": {},
   "outputs": [
    {
     "data": {
      "text/plain": [
       "0       1.6 L/101 a.g.\n",
       "1       1.8 L/178 a.g.\n",
       "2       2.0 L/184 a.g.\n",
       "3       1.5 L/181 a.g.\n",
       "4       2.0 L/173 a.g.\n",
       "             ...      \n",
       "9995    2.0 L/245 a.g.\n",
       "9996    3.0 L/340 a.g.\n",
       "9997    1.6 L/109 a.g.\n",
       "9998    2.0 L/140 a.g.\n",
       "9999     1.6 L/75 a.g.\n",
       "Name: Mühərrik, Length: 9968, dtype: object"
      ]
     },
     "execution_count": 32,
     "metadata": {},
     "output_type": "execute_result"
    }
   ],
   "source": [
    "df['Mühərrik']"
   ]
  },
  {
   "cell_type": "code",
   "execution_count": 33,
   "id": "83d7fcd5-f9f7-4e55-9975-dbe2acf4ce5f",
   "metadata": {},
   "outputs": [
    {
     "data": {
      "text/plain": [
       "0       Benzin\n",
       "1       Hibrid\n",
       "2        Dizel\n",
       "3       Benzin\n",
       "4       Benzin\n",
       "         ...  \n",
       "9995    Benzin\n",
       "9996    Benzin\n",
       "9997    Benzin\n",
       "9998     Dizel\n",
       "9999    Benzin\n",
       "Name: Yanacaq tipi, Length: 9968, dtype: object"
      ]
     },
     "execution_count": 33,
     "metadata": {},
     "output_type": "execute_result"
    }
   ],
   "source": [
    "df['Yanacaq tipi']"
   ]
  },
  {
   "cell_type": "code",
   "execution_count": 34,
   "id": "df5e14cb-aeee-47ec-98b4-ef694eeecf40",
   "metadata": {},
   "outputs": [],
   "source": [
    "df['Mühərrik'] = df['Mühərrik'].str.strip()\n",
    "df['Yanacaq tipi'] = df['Yanacaq tipi'].str.strip()"
   ]
  },
  {
   "cell_type": "code",
   "execution_count": 35,
   "id": "9eb21868-0785-43cc-993b-19faffbb251e",
   "metadata": {},
   "outputs": [
    {
     "data": {
      "text/plain": [
       "0       370 000 km\n",
       "1             0 km\n",
       "2       168 636 km\n",
       "3       120 873 km\n",
       "4             0 km\n",
       "           ...    \n",
       "9995    100 000 km\n",
       "9996     84 000 km\n",
       "9997    299 785 km\n",
       "9998    181 500 km\n",
       "9999     30 000 km\n",
       "Name: Yürüş, Length: 9968, dtype: object"
      ]
     },
     "execution_count": 35,
     "metadata": {},
     "output_type": "execute_result"
    }
   ],
   "source": [
    "df['Yürüş']"
   ]
  },
  {
   "cell_type": "code",
   "execution_count": 36,
   "id": "c2aa7d03-d283-4bfe-bd6c-831f14e2c5dc",
   "metadata": {},
   "outputs": [],
   "source": [
    "df['Yürüş'] = df['Yürüş'].str.replace(' km' , '').str.replace(' ' , '').astype(int)"
   ]
  },
  {
   "cell_type": "code",
   "execution_count": 37,
   "id": "ee11a5d5-6aca-4fce-9b3b-9e4f1b453e52",
   "metadata": {},
   "outputs": [
    {
     "data": {
      "text/plain": [
       "0       370000\n",
       "1            0\n",
       "2       168636\n",
       "3       120873\n",
       "4            0\n",
       "         ...  \n",
       "9995    100000\n",
       "9996     84000\n",
       "9997    299785\n",
       "9998    181500\n",
       "9999     30000\n",
       "Name: Yürüş, Length: 9968, dtype: int32"
      ]
     },
     "execution_count": 37,
     "metadata": {},
     "output_type": "execute_result"
    }
   ],
   "source": [
    "df['Yürüş']"
   ]
  },
  {
   "cell_type": "code",
   "execution_count": 38,
   "id": "e8cc1afd-67fb-4d32-b0bb-259f88fb3535",
   "metadata": {},
   "outputs": [
    {
     "data": {
      "text/plain": [
       "Vəziyyəti\n",
       "Vuruğu yoxdur, rənglənməyib    9178\n",
       "Vuruğu yoxdur, rənglənib        695\n",
       "Vuruğu var, rənglənib            69\n",
       "Vuruğu var, rənglənməyib         26\n",
       "Name: count, dtype: int64"
      ]
     },
     "execution_count": 38,
     "metadata": {},
     "output_type": "execute_result"
    }
   ],
   "source": [
    "df['Vəziyyəti'].value_counts()"
   ]
  },
  {
   "cell_type": "code",
   "execution_count": 39,
   "id": "77f92f70-1769-4d3c-9b59-f668144fb9d4",
   "metadata": {},
   "outputs": [],
   "source": [
    "df[['Vəziyyəti', 'Rəng vəziyyəti']] = df['Vəziyyəti'].str.split(', ' , expand = True)"
   ]
  },
  {
   "cell_type": "code",
   "execution_count": 40,
   "id": "5f491c2e-9caa-4395-bfe2-7e8952006f69",
   "metadata": {},
   "outputs": [
    {
     "data": {
      "text/plain": [
       "0          rənglənib\n",
       "1       rənglənməyib\n",
       "2       rənglənməyib\n",
       "3       rənglənməyib\n",
       "4       rənglənməyib\n",
       "            ...     \n",
       "9995    rənglənməyib\n",
       "9996    rənglənməyib\n",
       "9997    rənglənməyib\n",
       "9998    rənglənməyib\n",
       "9999    rənglənməyib\n",
       "Name: Rəng vəziyyəti, Length: 9968, dtype: object"
      ]
     },
     "execution_count": 40,
     "metadata": {},
     "output_type": "execute_result"
    }
   ],
   "source": [
    "df['Rəng vəziyyəti']"
   ]
  },
  {
   "cell_type": "code",
   "execution_count": 41,
   "id": "7df4fddc-ebf9-464f-b2fe-59c6f031a938",
   "metadata": {},
   "outputs": [
    {
     "data": {
      "text/plain": [
       "0       Vuruğu yoxdur\n",
       "1       Vuruğu yoxdur\n",
       "2       Vuruğu yoxdur\n",
       "3       Vuruğu yoxdur\n",
       "4       Vuruğu yoxdur\n",
       "            ...      \n",
       "9995    Vuruğu yoxdur\n",
       "9996    Vuruğu yoxdur\n",
       "9997    Vuruğu yoxdur\n",
       "9998    Vuruğu yoxdur\n",
       "9999    Vuruğu yoxdur\n",
       "Name: Vəziyyəti, Length: 9968, dtype: object"
      ]
     },
     "execution_count": 41,
     "metadata": {},
     "output_type": "execute_result"
    }
   ],
   "source": [
    "df['Vəziyyəti']"
   ]
  },
  {
   "cell_type": "code",
   "execution_count": 42,
   "id": "5c513a77-ad8c-438d-9bc3-81a36ba29437",
   "metadata": {},
   "outputs": [
    {
     "data": {
      "text/html": [
       "<div>\n",
       "<style scoped>\n",
       "    .dataframe tbody tr th:only-of-type {\n",
       "        vertical-align: middle;\n",
       "    }\n",
       "\n",
       "    .dataframe tbody tr th {\n",
       "        vertical-align: top;\n",
       "    }\n",
       "\n",
       "    .dataframe thead th {\n",
       "        text-align: right;\n",
       "    }\n",
       "</style>\n",
       "<table border=\"1\" class=\"dataframe\">\n",
       "  <thead>\n",
       "    <tr style=\"text-align: right;\">\n",
       "      <th></th>\n",
       "      <th>Avtosalon</th>\n",
       "      <th>Qiymet</th>\n",
       "      <th>Valyuta</th>\n",
       "      <th>Şəhər</th>\n",
       "      <th>Marka</th>\n",
       "      <th>Model</th>\n",
       "      <th>Buraxılış ili</th>\n",
       "      <th>Ban növü</th>\n",
       "      <th>Rəng</th>\n",
       "      <th>Mühərrik</th>\n",
       "      <th>Yürüş</th>\n",
       "      <th>Sürətlər qutusu</th>\n",
       "      <th>Ötürücü</th>\n",
       "      <th>Yeni</th>\n",
       "      <th>Vəziyyəti</th>\n",
       "      <th>Yeniləndi</th>\n",
       "      <th>Baxışların sayı</th>\n",
       "      <th>Sahiblər</th>\n",
       "      <th>Hansı bazar üçün yığılıb</th>\n",
       "      <th>Yerlərin sayı</th>\n",
       "      <th>Yanacaq tipi</th>\n",
       "      <th>Rəng vəziyyəti</th>\n",
       "    </tr>\n",
       "  </thead>\n",
       "  <tbody>\n",
       "    <tr>\n",
       "      <th>0</th>\n",
       "      <td>0</td>\n",
       "      <td>13500</td>\n",
       "      <td>AZN</td>\n",
       "      <td>Bakı</td>\n",
       "      <td>Opel</td>\n",
       "      <td>Vectra</td>\n",
       "      <td>2000</td>\n",
       "      <td>Hetçbek</td>\n",
       "      <td>Göy</td>\n",
       "      <td>1.6 L/101 a.g.</td>\n",
       "      <td>370000</td>\n",
       "      <td>Mexaniki</td>\n",
       "      <td>Ön</td>\n",
       "      <td>Xeyr</td>\n",
       "      <td>Vuruğu yoxdur</td>\n",
       "      <td>28.05.2023</td>\n",
       "      <td>267</td>\n",
       "      <td>2</td>\n",
       "      <td>Avropa</td>\n",
       "      <td>5</td>\n",
       "      <td>Benzin</td>\n",
       "      <td>rənglənib</td>\n",
       "    </tr>\n",
       "    <tr>\n",
       "      <th>1</th>\n",
       "      <td>1</td>\n",
       "      <td>39950</td>\n",
       "      <td>AZN</td>\n",
       "      <td>Bakı</td>\n",
       "      <td>Toyota</td>\n",
       "      <td>Corolla</td>\n",
       "      <td>2023</td>\n",
       "      <td>Sedan</td>\n",
       "      <td>Mavi</td>\n",
       "      <td>1.8 L/178 a.g.</td>\n",
       "      <td>0</td>\n",
       "      <td>Avtomat</td>\n",
       "      <td>Ön</td>\n",
       "      <td>Bəli</td>\n",
       "      <td>Vuruğu yoxdur</td>\n",
       "      <td>28.05.2023</td>\n",
       "      <td>12410</td>\n",
       "      <td>1</td>\n",
       "      <td>Rəsmi diler</td>\n",
       "      <td>5</td>\n",
       "      <td>Hibrid</td>\n",
       "      <td>rənglənməyib</td>\n",
       "    </tr>\n",
       "    <tr>\n",
       "      <th>2</th>\n",
       "      <td>0</td>\n",
       "      <td>33200</td>\n",
       "      <td>AZN</td>\n",
       "      <td>Bakı</td>\n",
       "      <td>Hyundai</td>\n",
       "      <td>Santa Fe</td>\n",
       "      <td>2013</td>\n",
       "      <td>Offroader / SUV</td>\n",
       "      <td>Qara</td>\n",
       "      <td>2.0 L/184 a.g.</td>\n",
       "      <td>168636</td>\n",
       "      <td>Avtomat</td>\n",
       "      <td>Ön</td>\n",
       "      <td>Xeyr</td>\n",
       "      <td>Vuruğu yoxdur</td>\n",
       "      <td>28.05.2023</td>\n",
       "      <td>148</td>\n",
       "      <td>1</td>\n",
       "      <td>Avropa</td>\n",
       "      <td>7</td>\n",
       "      <td>Dizel</td>\n",
       "      <td>rənglənməyib</td>\n",
       "    </tr>\n",
       "    <tr>\n",
       "      <th>3</th>\n",
       "      <td>0</td>\n",
       "      <td>17000</td>\n",
       "      <td>AZN</td>\n",
       "      <td>Bakı</td>\n",
       "      <td>Ford</td>\n",
       "      <td>Fusion</td>\n",
       "      <td>2015</td>\n",
       "      <td>Sedan</td>\n",
       "      <td>Göy</td>\n",
       "      <td>1.5 L/181 a.g.</td>\n",
       "      <td>120873</td>\n",
       "      <td>Avtomat</td>\n",
       "      <td>Ön</td>\n",
       "      <td>Xeyr</td>\n",
       "      <td>Vuruğu yoxdur</td>\n",
       "      <td>25.05.2023</td>\n",
       "      <td>3358</td>\n",
       "      <td>1</td>\n",
       "      <td>Avropa</td>\n",
       "      <td>7</td>\n",
       "      <td>Benzin</td>\n",
       "      <td>rənglənməyib</td>\n",
       "    </tr>\n",
       "    <tr>\n",
       "      <th>4</th>\n",
       "      <td>0</td>\n",
       "      <td>61200</td>\n",
       "      <td>AZN</td>\n",
       "      <td>Bakı</td>\n",
       "      <td>Toyota</td>\n",
       "      <td>RAV4</td>\n",
       "      <td>2022</td>\n",
       "      <td>Offroader / SUV</td>\n",
       "      <td>Qara</td>\n",
       "      <td>2.0 L/173 a.g.</td>\n",
       "      <td>0</td>\n",
       "      <td>Avtomat</td>\n",
       "      <td>Ön</td>\n",
       "      <td>Bəli</td>\n",
       "      <td>Vuruğu yoxdur</td>\n",
       "      <td>28.05.2023</td>\n",
       "      <td>16183</td>\n",
       "      <td>1</td>\n",
       "      <td>Avropa</td>\n",
       "      <td>5</td>\n",
       "      <td>Benzin</td>\n",
       "      <td>rənglənməyib</td>\n",
       "    </tr>\n",
       "    <tr>\n",
       "      <th>...</th>\n",
       "      <td>...</td>\n",
       "      <td>...</td>\n",
       "      <td>...</td>\n",
       "      <td>...</td>\n",
       "      <td>...</td>\n",
       "      <td>...</td>\n",
       "      <td>...</td>\n",
       "      <td>...</td>\n",
       "      <td>...</td>\n",
       "      <td>...</td>\n",
       "      <td>...</td>\n",
       "      <td>...</td>\n",
       "      <td>...</td>\n",
       "      <td>...</td>\n",
       "      <td>...</td>\n",
       "      <td>...</td>\n",
       "      <td>...</td>\n",
       "      <td>...</td>\n",
       "      <td>...</td>\n",
       "      <td>...</td>\n",
       "      <td>...</td>\n",
       "      <td>...</td>\n",
       "    </tr>\n",
       "    <tr>\n",
       "      <th>9995</th>\n",
       "      <td>0</td>\n",
       "      <td>38930</td>\n",
       "      <td>AZN</td>\n",
       "      <td>Bakı</td>\n",
       "      <td>BMW</td>\n",
       "      <td>528</td>\n",
       "      <td>2016</td>\n",
       "      <td>Sedan</td>\n",
       "      <td>Qara</td>\n",
       "      <td>2.0 L/245 a.g.</td>\n",
       "      <td>100000</td>\n",
       "      <td>Avtomat</td>\n",
       "      <td>Arxa</td>\n",
       "      <td>Xeyr</td>\n",
       "      <td>Vuruğu yoxdur</td>\n",
       "      <td>28.05.2023</td>\n",
       "      <td>1202</td>\n",
       "      <td>2</td>\n",
       "      <td>Rusiya</td>\n",
       "      <td>5</td>\n",
       "      <td>Benzin</td>\n",
       "      <td>rənglənməyib</td>\n",
       "    </tr>\n",
       "    <tr>\n",
       "      <th>9996</th>\n",
       "      <td>0</td>\n",
       "      <td>166600</td>\n",
       "      <td>AZN</td>\n",
       "      <td>Bakı</td>\n",
       "      <td>Land Rover</td>\n",
       "      <td>Range Rover</td>\n",
       "      <td>2019</td>\n",
       "      <td>Offroader / SUV</td>\n",
       "      <td>Qara</td>\n",
       "      <td>3.0 L/340 a.g.</td>\n",
       "      <td>84000</td>\n",
       "      <td>Avtomat</td>\n",
       "      <td>Tam</td>\n",
       "      <td>Xeyr</td>\n",
       "      <td>Vuruğu yoxdur</td>\n",
       "      <td>27.05.2023</td>\n",
       "      <td>1144</td>\n",
       "      <td>2</td>\n",
       "      <td>Rusiya</td>\n",
       "      <td>5</td>\n",
       "      <td>Benzin</td>\n",
       "      <td>rənglənməyib</td>\n",
       "    </tr>\n",
       "    <tr>\n",
       "      <th>9997</th>\n",
       "      <td>0</td>\n",
       "      <td>9800</td>\n",
       "      <td>AZN</td>\n",
       "      <td>Bakı</td>\n",
       "      <td>Chevrolet</td>\n",
       "      <td>Lacetti</td>\n",
       "      <td>2007</td>\n",
       "      <td>Sedan</td>\n",
       "      <td>Gümüşü</td>\n",
       "      <td>1.6 L/109 a.g.</td>\n",
       "      <td>299785</td>\n",
       "      <td>Avtomat</td>\n",
       "      <td>Ön</td>\n",
       "      <td>Xeyr</td>\n",
       "      <td>Vuruğu yoxdur</td>\n",
       "      <td>26.05.2023</td>\n",
       "      <td>552</td>\n",
       "      <td>2</td>\n",
       "      <td>Koreya</td>\n",
       "      <td>5</td>\n",
       "      <td>Benzin</td>\n",
       "      <td>rənglənməyib</td>\n",
       "    </tr>\n",
       "    <tr>\n",
       "      <th>9998</th>\n",
       "      <td>0</td>\n",
       "      <td>17800</td>\n",
       "      <td>AZN</td>\n",
       "      <td>Bakı</td>\n",
       "      <td>Hyundai</td>\n",
       "      <td>Tucson</td>\n",
       "      <td>2007</td>\n",
       "      <td>Offroader / SUV</td>\n",
       "      <td>Gümüşü</td>\n",
       "      <td>2.0 L/140 a.g.</td>\n",
       "      <td>181500</td>\n",
       "      <td>Avtomat</td>\n",
       "      <td>Ön</td>\n",
       "      <td>Xeyr</td>\n",
       "      <td>Vuruğu yoxdur</td>\n",
       "      <td>27.05.2023</td>\n",
       "      <td>317</td>\n",
       "      <td>1</td>\n",
       "      <td>Avropa</td>\n",
       "      <td>5</td>\n",
       "      <td>Dizel</td>\n",
       "      <td>rənglənməyib</td>\n",
       "    </tr>\n",
       "    <tr>\n",
       "      <th>9999</th>\n",
       "      <td>0</td>\n",
       "      <td>5000</td>\n",
       "      <td>AZN</td>\n",
       "      <td>Gəncə</td>\n",
       "      <td>LADA (VAZ)</td>\n",
       "      <td>2107</td>\n",
       "      <td>2004</td>\n",
       "      <td>Sedan</td>\n",
       "      <td>Ağ</td>\n",
       "      <td>1.6 L/75 a.g.</td>\n",
       "      <td>30000</td>\n",
       "      <td>Mexaniki</td>\n",
       "      <td>Arxa</td>\n",
       "      <td>Xeyr</td>\n",
       "      <td>Vuruğu yoxdur</td>\n",
       "      <td>26.05.2023</td>\n",
       "      <td>381</td>\n",
       "      <td>1</td>\n",
       "      <td>Digər</td>\n",
       "      <td>5</td>\n",
       "      <td>Benzin</td>\n",
       "      <td>rənglənməyib</td>\n",
       "    </tr>\n",
       "  </tbody>\n",
       "</table>\n",
       "<p>9968 rows × 22 columns</p>\n",
       "</div>"
      ],
      "text/plain": [
       "      Avtosalon  Qiymet Valyuta  Şəhər       Marka        Model  \\\n",
       "0             0   13500     AZN   Bakı        Opel       Vectra   \n",
       "1             1   39950     AZN   Bakı      Toyota      Corolla   \n",
       "2             0   33200     AZN   Bakı     Hyundai     Santa Fe   \n",
       "3             0   17000     AZN   Bakı        Ford       Fusion   \n",
       "4             0   61200     AZN   Bakı      Toyota         RAV4   \n",
       "...         ...     ...     ...    ...         ...          ...   \n",
       "9995          0   38930     AZN   Bakı         BMW          528   \n",
       "9996          0  166600     AZN   Bakı  Land Rover  Range Rover   \n",
       "9997          0    9800     AZN   Bakı   Chevrolet      Lacetti   \n",
       "9998          0   17800     AZN   Bakı     Hyundai       Tucson   \n",
       "9999          0    5000     AZN  Gəncə  LADA (VAZ)         2107   \n",
       "\n",
       "      Buraxılış ili         Ban növü    Rəng        Mühərrik   Yürüş  \\\n",
       "0              2000          Hetçbek     Göy  1.6 L/101 a.g.  370000   \n",
       "1              2023            Sedan    Mavi  1.8 L/178 a.g.       0   \n",
       "2              2013  Offroader / SUV    Qara  2.0 L/184 a.g.  168636   \n",
       "3              2015            Sedan     Göy  1.5 L/181 a.g.  120873   \n",
       "4              2022  Offroader / SUV    Qara  2.0 L/173 a.g.       0   \n",
       "...             ...              ...     ...             ...     ...   \n",
       "9995           2016            Sedan    Qara  2.0 L/245 a.g.  100000   \n",
       "9996           2019  Offroader / SUV    Qara  3.0 L/340 a.g.   84000   \n",
       "9997           2007            Sedan  Gümüşü  1.6 L/109 a.g.  299785   \n",
       "9998           2007  Offroader / SUV  Gümüşü  2.0 L/140 a.g.  181500   \n",
       "9999           2004            Sedan      Ağ   1.6 L/75 a.g.   30000   \n",
       "\n",
       "     Sürətlər qutusu Ötürücü  Yeni      Vəziyyəti    Yeniləndi  \\\n",
       "0           Mexaniki      Ön  Xeyr  Vuruğu yoxdur   28.05.2023   \n",
       "1            Avtomat      Ön  Bəli  Vuruğu yoxdur   28.05.2023   \n",
       "2            Avtomat      Ön  Xeyr  Vuruğu yoxdur   28.05.2023   \n",
       "3            Avtomat      Ön  Xeyr  Vuruğu yoxdur   25.05.2023   \n",
       "4            Avtomat      Ön  Bəli  Vuruğu yoxdur   28.05.2023   \n",
       "...              ...     ...   ...            ...          ...   \n",
       "9995         Avtomat    Arxa  Xeyr  Vuruğu yoxdur   28.05.2023   \n",
       "9996         Avtomat     Tam  Xeyr  Vuruğu yoxdur   27.05.2023   \n",
       "9997         Avtomat      Ön  Xeyr  Vuruğu yoxdur   26.05.2023   \n",
       "9998         Avtomat      Ön  Xeyr  Vuruğu yoxdur   27.05.2023   \n",
       "9999        Mexaniki    Arxa  Xeyr  Vuruğu yoxdur   26.05.2023   \n",
       "\n",
       "      Baxışların sayı Sahiblər Hansı bazar üçün yığılıb Yerlərin sayı  \\\n",
       "0                 267        2                   Avropa             5   \n",
       "1               12410        1              Rəsmi diler             5   \n",
       "2                 148        1                   Avropa             7   \n",
       "3                3358        1                   Avropa             7   \n",
       "4               16183        1                   Avropa             5   \n",
       "...               ...      ...                      ...           ...   \n",
       "9995             1202        2                   Rusiya             5   \n",
       "9996             1144        2                   Rusiya             5   \n",
       "9997              552        2                   Koreya             5   \n",
       "9998              317        1                   Avropa             5   \n",
       "9999              381        1                    Digər             5   \n",
       "\n",
       "     Yanacaq tipi Rəng vəziyyəti  \n",
       "0          Benzin      rənglənib  \n",
       "1          Hibrid   rənglənməyib  \n",
       "2           Dizel   rənglənməyib  \n",
       "3          Benzin   rənglənməyib  \n",
       "4          Benzin   rənglənməyib  \n",
       "...           ...            ...  \n",
       "9995       Benzin   rənglənməyib  \n",
       "9996       Benzin   rənglənməyib  \n",
       "9997       Benzin   rənglənməyib  \n",
       "9998        Dizel   rənglənməyib  \n",
       "9999       Benzin   rənglənməyib  \n",
       "\n",
       "[9968 rows x 22 columns]"
      ]
     },
     "execution_count": 42,
     "metadata": {},
     "output_type": "execute_result"
    }
   ],
   "source": [
    "df"
   ]
  },
  {
   "cell_type": "code",
   "execution_count": 43,
   "id": "0e2a60a2-1ed7-41c9-8ff5-774f592b191b",
   "metadata": {},
   "outputs": [],
   "source": [
    "from sklearn.preprocessing import LabelEncoder\n",
    "\n",
    "label_encoders = {}\n",
    "\n",
    "for column in ['Şəhər', 'Marka', 'Model', 'Ban növü', 'Rəng' , 'Mühərrik' , 'Sürətlər qutusu' , 'Ötürücü' , 'Yeni', 'Vəziyyəti' , 'Hansı bazar üçün yığılıb' , 'Yanacaq tipi' , 'Rəng vəziyyəti' , 'Sahiblər' , 'Yerlərin sayı' ]:\n",
    "    le = LabelEncoder()\n",
    "    df[column] = le.fit_transform(df[column])\n",
    "    label_encoders[column] = le  # Save the label encoder if you need to inverse transform later\n"
   ]
  },
  {
   "cell_type": "code",
   "execution_count": 44,
   "id": "1bbbd78e-cb69-4cd4-b83a-63d951878be6",
   "metadata": {},
   "outputs": [
    {
     "name": "stdout",
     "output_type": "stream",
     "text": [
      "<class 'pandas.core.frame.DataFrame'>\n",
      "Index: 9968 entries, 0 to 9999\n",
      "Data columns (total 22 columns):\n",
      " #   Column                    Non-Null Count  Dtype \n",
      "---  ------                    --------------  ----- \n",
      " 0   Avtosalon                 9968 non-null   int64 \n",
      " 1   Qiymet                    9968 non-null   int64 \n",
      " 2   Valyuta                   9968 non-null   object\n",
      " 3   Şəhər                     9968 non-null   int32 \n",
      " 4   Marka                     9968 non-null   int32 \n",
      " 5   Model                     9968 non-null   int32 \n",
      " 6   Buraxılış ili             9968 non-null   int64 \n",
      " 7   Ban növü                  9968 non-null   int32 \n",
      " 8   Rəng                      9968 non-null   int32 \n",
      " 9   Mühərrik                  9968 non-null   int32 \n",
      " 10  Yürüş                     9968 non-null   int32 \n",
      " 11  Sürətlər qutusu           9968 non-null   int32 \n",
      " 12  Ötürücü                   9968 non-null   int32 \n",
      " 13  Yeni                      9968 non-null   int32 \n",
      " 14  Vəziyyəti                 9968 non-null   int32 \n",
      " 15  Yeniləndi                 9968 non-null   object\n",
      " 16  Baxışların sayı           9968 non-null   int64 \n",
      " 17  Sahiblər                  9968 non-null   int32 \n",
      " 18  Hansı bazar üçün yığılıb  9968 non-null   int32 \n",
      " 19  Yerlərin sayı             9968 non-null   int32 \n",
      " 20  Yanacaq tipi              9968 non-null   int32 \n",
      " 21  Rəng vəziyyəti            9968 non-null   int32 \n",
      "dtypes: int32(16), int64(4), object(2)\n",
      "memory usage: 1.4+ MB\n"
     ]
    }
   ],
   "source": [
    "df.info()"
   ]
  },
  {
   "cell_type": "code",
   "execution_count": 45,
   "id": "9442aed1-dd13-42cb-b255-93b9f54a65e1",
   "metadata": {},
   "outputs": [],
   "source": [
    "df.drop(columns=['Valyuta', 'Yeniləndi'], inplace=True)"
   ]
  },
  {
   "cell_type": "code",
   "execution_count": 46,
   "id": "ca2b5583-a3d5-41cb-970d-def9fbd71f9c",
   "metadata": {},
   "outputs": [
    {
     "data": {
      "text/plain": [
       "<Axes: >"
      ]
     },
     "execution_count": 46,
     "metadata": {},
     "output_type": "execute_result"
    },
    {
     "data": {
      "image/png": "[encoded data removed]",
      "text/plain": [
       "<Figure size 1200x800 with 2 Axes>"
      ]
     },
     "metadata": {},
     "output_type": "display_data"
    }
   ],
   "source": [
    "import seaborn as sns\n",
    "import matplotlib.pyplot as plt\n",
    "corr_matrix = df.corr()\n",
    "\n",
    "plt.figure(figsize=(12, 8))\n",
    "\n",
    "sns.heatmap(corr_matrix, annot=True, cmap='coolwarm', fmt='.2f', linewidths=0.5)\n"
   ]
  },
  {
   "cell_type": "code",
   "execution_count": 75,
   "id": "e0ccba90-8ff8-4ef8-a227-7a71e1c1a4c7",
   "metadata": {},
   "outputs": [
    {
     "data": {
      "text/plain": [
       "0.49374102900992534"
      ]
     },
     "execution_count": 75,
     "metadata": {},
     "output_type": "execute_result"
    }
   ],
   "source": [
    "from sklearn.model_selection import train_test_split\n",
    "from sklearn.linear_model import LinearRegression\n",
    "from sklearn.metrics import r2_score\n",
    "\n",
    "X = df.drop(columns = 'Qiymet') \n",
    "y = df['Qiymet']\n",
    "\n",
    "X_train, X_test, y_train, y_test = train_test_split(X, y, test_size=0.2, random_state=42)\n",
    "\n",
    "model = LinearRegression()\n",
    "model.fit(X_train, y_train)\n",
    "\n",
    "y_pred = model.predict(X_test)\n",
    "\n",
    "r2_score(y_test,y_pred)"
   ]
  },
  {
   "cell_type": "code",
   "execution_count": 76,
   "id": "ba512714-ebef-4a19-b45f-f7791f3dda5a",
   "metadata": {},
   "outputs": [
    {
     "data": {
      "text/plain": [
       "0.840205296664432"
      ]
     },
     "execution_count": 76,
     "metadata": {},
     "output_type": "execute_result"
    }
   ],
   "source": [
    "from sklearn.tree import DecisionTreeRegressor\n",
    "model = DecisionTreeRegressor(max_leaf_nodes=60)\n",
    "model.fit(X_train, y_train)\n",
    "\n",
    "y_pred = model.predict(X_test)\n",
    "\n",
    "r2_score(y_test,y_pred)"
   ]
  },
  {
   "cell_type": "code",
   "execution_count": 77,
   "id": "611a2d78-0366-4cb3-8c6e-c18f116f55f5",
   "metadata": {},
   "outputs": [
    {
     "data": {
      "text/plain": [
       "0.9072232952428408"
      ]
     },
     "execution_count": 77,
     "metadata": {},
     "output_type": "execute_result"
    }
   ],
   "source": [
    "from sklearn.ensemble import RandomForestRegressor\n",
    "\n",
    "model = RandomForestRegressor(n_estimators=200)\n",
    "model.fit(X_train, y_train)\n",
    "\n",
    "y_pred = model.predict(X_test)\n",
    "\n",
    "r2_score(y_test,y_pred)"
   ]
  }
 ],
 "metadata": {
  "kernelspec": {
   "display_name": "Python 3 (ipykernel)",
   "language": "python",
   "name": "python3"
  },
  "language_info": {
   "codemirror_mode": {
    "name": "ipython",
    "version": 3
   },
   "file_extension": ".py",
   "mimetype": "text/x-python",
   "name": "python",
   "nbconvert_exporter": "python",
   "pygments_lexer": "ipython3",
   "version": "3.11.7"
  }
 },
 "nbformat": 4,
 "nbformat_minor": 5
}
